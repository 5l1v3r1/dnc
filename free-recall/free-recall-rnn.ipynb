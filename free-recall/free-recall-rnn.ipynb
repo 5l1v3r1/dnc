{
 "cells": [
  {
   "cell_type": "markdown",
   "metadata": {},
   "source": [
    "# Repeat Copy Task\n",
    "### Differentiable Neural Computer (DNC) using a RNN Controller\n",
    "\n",
    "<a href=\"https://goo.gl/6eiJFc\"><img src=\"../static/dnc_schema.png\" alt=\"DNC schema\" style=\"width: 700px;\"/></a>\n",
    "\n",
    "**Sam Greydanus $\\cdot$ February 2017 $\\cdot$ MIT License.**\n",
    "\n",
    "Represents the state of the art in differentiable memory. Inspired by this [Nature paper](https://goo.gl/6eiJFc). Some ideas taken from [this Gihub repo](https://github.com/Mostafa-Samir/DNC-tensorflow)"
   ]
  },
  {
   "cell_type": "markdown",
   "metadata": {},
   "source": [
    "## Brain analogy"
   ]
  },
  {
   "cell_type": "markdown",
   "metadata": {},
   "source": [
    " However, there are interesting parallels between the memory mechanisms of a DNC and the functional capabilities of the mammalian hippocampus. DNC memory modification is fast and can be one-shot, resembling the associative long-term potentiation of hippocampal CA3 and CA1 synapses. The hippocampal dentate gyrus, a region known to support neurogenesis, has been proposed to increase representational sparsity, thereby enhancing memory capacity: usage- based memory allocation and sparse weightings may provide similar facilities in our model. Human 'free recall' experiments demonstrate the increased probability of item recall in the same order as first presented—a hippocampus-dependent phenomenon accounted for by the temporal context model, bearing some similarity to the formation of temporal links."
   ]
  },
  {
   "cell_type": "code",
   "execution_count": 1,
   "metadata": {
    "collapsed": false
   },
   "outputs": [],
   "source": [
    "import tensorflow as tf\n",
    "import numpy as np\n",
    "import sys\n",
    "sys.path.insert(0, '../dnc')\n",
    "\n",
    "from dnc import DNC\n",
    "from rnn_controller import RNNController\n",
    "\n",
    "import matplotlib.pyplot as plt\n",
    "%matplotlib inline"
   ]
  },
  {
   "cell_type": "markdown",
   "metadata": {},
   "source": [
    "### Hyperparameters"
   ]
  },
  {
   "cell_type": "code",
   "execution_count": 2,
   "metadata": {
    "collapsed": false
   },
   "outputs": [],
   "source": [
    "xydim = 6\n",
    "tf.app.flags.DEFINE_integer(\"xlen\", xydim, \"Input dimension\")\n",
    "tf.app.flags.DEFINE_integer(\"ylen\", xydim, \"output dimension\")\n",
    "tf.app.flags.DEFINE_integer(\"length\", 5, \"Sequence length\")\n",
    "tf.app.flags.DEFINE_integer(\"batch_size\", 3, \"Size of batch in minibatch gradient descent\")\n",
    "\n",
    "tf.app.flags.DEFINE_integer(\"R\", 1, \"Number of DNC read heads\")\n",
    "tf.app.flags.DEFINE_integer(\"W\", 10, \"Word length for DNC memory\")\n",
    "tf.app.flags.DEFINE_integer(\"N\", 7, \"Number of words the DNC memory can store\")\n",
    "\n",
    "tf.app.flags.DEFINE_integer(\"print_every\", 100, \"Print training info after this number of train steps\")\n",
    "tf.app.flags.DEFINE_integer(\"iterations\", 30000, \"Number of training iterations\")\n",
    "tf.app.flags.DEFINE_float(\"lr\", 1e-4, \"Learning rate (alpha) for the model\")\n",
    "tf.app.flags.DEFINE_float(\"momentum\", .9, \"RMSProp momentum\")\n",
    "tf.app.flags.DEFINE_integer(\"save_every\", 1000, \"Save model after this number of train steps\")\n",
    "tf.app.flags.DEFINE_string(\"save_path\", \"rnn_models/model.ckpt\", \"Where to save checkpoints\")\n",
    "FLAGS = tf.app.flags.FLAGS"
   ]
  },
  {
   "cell_type": "markdown",
   "metadata": {},
   "source": [
    "### Data functions"
   ]
  },
  {
   "cell_type": "code",
   "execution_count": 3,
   "metadata": {
    "collapsed": false
   },
   "outputs": [
    {
     "data": {
      "image/png": "[encoded data removed]",
      "text/plain": [
       "<matplotlib.figure.Figure at 0x10ad67690>"
      ]
     },
     "metadata": {},
     "output_type": "display_data"
    }
   ],
   "source": [
    "def get_sequence(length, dim):\n",
    "    X = np.concatenate((np.random.randint(2, size=(length,dim)), np.zeros((length + 3,dim))))\n",
    "    X = np.vstack(X) ; X[:,dim-1] = 0\n",
    "    \n",
    "    X = np.concatenate((X[-1:,:],X[:-1,:]))\n",
    "    y = np.concatenate((X[-(length + 2):,:],X[:-(length + 2),:]))\n",
    "    markers = range(length+1, X.shape[0], 2*length+3)\n",
    "    X[markers,dim-1] = 1\n",
    "    return X, y\n",
    "        \n",
    "def next_batch(batch_size, length, dim):\n",
    "    X_batch = []\n",
    "    y_batch = []\n",
    "    for _ in range(batch_size):\n",
    "        X, y = get_sequence(length, dim)\n",
    "        X_batch.append(X) ; y_batch.append(y)\n",
    "    return [X_batch, y_batch]\n",
    "\n",
    "batch = next_batch(1, FLAGS.length, FLAGS.xlen)\n",
    "plt.imshow(batch[0][0].T - batch[1][0].T, interpolation='none')\n",
    "plt.show()"
   ]
  },
  {
   "cell_type": "markdown",
   "metadata": {},
   "source": [
    "### Helper functions"
   ]
  },
  {
   "cell_type": "code",
   "execution_count": 4,
   "metadata": {
    "collapsed": true
   },
   "outputs": [],
   "source": [
    "def binary_cross_entropy(y, y_hat):\n",
    "    return tf.reduce_mean(-y*tf.log(y_hat) - (1-y)*tf.log(1-y_hat))\n",
    "\n",
    "def llprint(message):\n",
    "    sys.stdout.write(message)\n",
    "    sys.stdout.flush()"
   ]
  },
  {
   "cell_type": "code",
   "execution_count": 5,
   "metadata": {
    "collapsed": true
   },
   "outputs": [],
   "source": [
    "def free_recall_loss(y, y_hat, tsteps):    \n",
    "    # sorry this dimension stuff is uuuuugly but we have to because it's batched\n",
    "    y = tf.expand_dims(y, [1])\n",
    "    y_hat = tf.expand_dims(y_hat, [1])\n",
    "    \n",
    "    y_hat = tf.tile(y_hat,[1,tsteps,1,1])\n",
    "    y_hat = tf.transpose(y_hat, [0,2,1,3])\n",
    "    \n",
    "    y_minus = -y*tf.log(y_hat) - (1-y)*tf.log(1-y_hat) # binary cross entropy loss\n",
    "    y_minus = tf.reduce_sum(y_minus, axis=-1)\n",
    "    y_minus = tf.reduce_min(y_minus, axis=1)\n",
    "    \n",
    "    return tf.reduce_sum(y_minus) / (FLAGS.batch_size*FLAGS.length)"
   ]
  },
  {
   "cell_type": "code",
   "execution_count": 8,
   "metadata": {
    "collapsed": false
   },
   "outputs": [
    {
     "name": "stdout",
     "output_type": "stream",
     "text": [
      "permute by:  [0 4 3 1 2]\n",
      "guessed permutation:  [0 4 3 1 2]\n"
     ]
    },
    {
     "data": {
      "image/png": "[encoded data removed]",
      "text/plain": [
       "<matplotlib.figure.Figure at 0x119267310>"
      ]
     },
     "metadata": {},
     "output_type": "display_data"
    },
    {
     "data": {
      "image/png": "[encoded data removed]",
      "text/plain": [
       "<matplotlib.figure.Figure at 0x119367110>"
      ]
     },
     "metadata": {},
     "output_type": "display_data"
    }
   ],
   "source": [
    "def remove_duplicates(k, l):\n",
    "    i = 0 ; removed_duplicate = False\n",
    "    while i < len(k) and not removed_duplicate: \n",
    "        if k[-i] == k[-i-1]:\n",
    "            ri = np.random.randint(2)\n",
    "            k = np.delete(k,-i-ri) ; l = np.delete(l,-i-ri) ; removed_duplicate = True\n",
    "            k,l = remove_duplicates(k,l)\n",
    "        i+=1\n",
    "    return k,l\n",
    "\n",
    "def guess_recall_order(real_y, pred_y, tsteps):\n",
    "    # sorry this is uuuuugly but we have to because it's batched\n",
    "    real_y = np.tile(real_y, [1,1,1,1]) ; real_y = np.transpose(real_y, (1,0,2,3))\n",
    "    pred_y = np.tile(pred_y,[1,1,1,1]) ; pred_y = np.transpose(pred_y, (1,0,2,3))\n",
    "    \n",
    "    pred_y = np.tile(pred_y,[1,tsteps,1,1])\n",
    "    pred_y = np.transpose(pred_y, (0,2,1,3))\n",
    "    \n",
    "    real_y = real_y[0,:,:,:] ; pred_y = pred_y[0,:,:,:]\n",
    "    y_minus = .5*(real_y - pred_y)**2\n",
    "    y_minus = np.sum(y_minus, axis=-1)\n",
    "    y_mins = np.amin(y_minus, axis=1)\n",
    "    \n",
    "    k, l = np.where(y_minus == np.tile(y_mins,[tsteps,1]).T)\n",
    "    k, l = remove_duplicates(k, l)\n",
    "    return l\n",
    "\n",
    "# test\n",
    "X, real_y = next_batch(FLAGS.batch_size, FLAGS.length, FLAGS.xlen)\n",
    "real_y = np.stack(real_y)[:,-FLAGS.length:,:]\n",
    "\n",
    "p = np.random.permutation(real_y[0].shape[0]) ; print 'permute by: ', p\n",
    "pred_y = [y_i[p,:] for y_i in real_y]\n",
    "pred_y = np.stack(pred_y)\n",
    "\n",
    "plt.figure(0, figsize=[1,1]) ; plt.imshow(real_y[0,:,:].T, interpolation='none')\n",
    "plt.figure(1, figsize=[1,1]) ; plt.imshow(pred_y[0,:,:].T, interpolation='none')\n",
    "\n",
    "print \"guessed permutation: \", guess_recall_order(real_y, pred_y, FLAGS.length)"
   ]
  },
  {
   "cell_type": "markdown",
   "metadata": {},
   "source": [
    "### Build graph, initialize everything"
   ]
  },
  {
   "cell_type": "code",
   "execution_count": 9,
   "metadata": {
    "collapsed": false
   },
   "outputs": [
    {
     "name": "stdout",
     "output_type": "stream",
     "text": [
      "building graph...\n",
      "defining loss...\n",
      "computing gradients...\n",
      "init variables... \n",
      "ready to train..."
     ]
    }
   ],
   "source": [
    "sess = tf.InteractiveSession()\n",
    "\n",
    "llprint(\"building graph...\\n\")\n",
    "optimizer = tf.train.RMSPropOptimizer(FLAGS.lr, momentum=FLAGS.momentum)\n",
    "dnc = DNC(RNNController, FLAGS)\n",
    "\n",
    "llprint(\"defining loss...\\n\")\n",
    "y_hat, outputs = dnc.get_outputs()\n",
    "y_hat = tf.clip_by_value(tf.sigmoid(y_hat), 1e-6, 1. - 1e-6) # avoid infinity\n",
    "rlen = (dnc.tsteps-3)/2\n",
    "loss = free_recall_loss(dnc.y[:,-rlen:,:], y_hat[:,-rlen:,:], tsteps=rlen)\n",
    "\n",
    "llprint(\"computing gradients...\\n\")\n",
    "gradients = optimizer.compute_gradients(loss)\n",
    "for i, (grad, var) in enumerate(gradients):\n",
    "    if grad is not None:\n",
    "        gradients[i] = (tf.clip_by_value(grad, -10, 10), var)\n",
    "                    \n",
    "grad_op = optimizer.apply_gradients(gradients)\n",
    "\n",
    "llprint(\"init variables... \\n\")\n",
    "sess.run(tf.global_variables_initializer())\n",
    "llprint(\"ready to train...\")"
   ]
  },
  {
   "cell_type": "code",
   "execution_count": 10,
   "metadata": {
    "collapsed": false
   },
   "outputs": [
    {
     "name": "stdout",
     "output_type": "stream",
     "text": [
      "model overview...\n",
      "\tvariable \"dnc_scope/basic_lstm_cell/weights:0\" has 73728 parameters\n",
      "\tvariable \"dnc_scope/basic_lstm_cell/biases:0\" has 512 parameters\n",
      "\tvariable \"W_z:0\" has 6144 parameters\n",
      "\tvariable \"W_v:0\" has 768 parameters\n",
      "\tvariable \"W_r:0\" has 60 parameters\n",
      "total of 81212 parameters\n"
     ]
    }
   ],
   "source": [
    "# tf parameter overview\n",
    "total_parameters = 0 ; print \"model overview...\"\n",
    "for variable in tf.trainable_variables():\n",
    "    shape = variable.get_shape()\n",
    "    variable_parameters = 1\n",
    "    for dim in shape:\n",
    "        variable_parameters *= dim.value\n",
    "    print '\\tvariable \"{}\" has {} parameters' \\\n",
    "        .format(variable.name, variable_parameters)\n",
    "    total_parameters += variable_parameters\n",
    "print \"total of {} parameters\".format(total_parameters)"
   ]
  },
  {
   "cell_type": "code",
   "execution_count": 11,
   "metadata": {
    "collapsed": false
   },
   "outputs": [
    {
     "name": "stdout",
     "output_type": "stream",
     "text": [
      "loaded model: rnn_models/model.ckpt-30000\n"
     ]
    }
   ],
   "source": [
    "global_step = 0\n",
    "saver = tf.train.Saver(tf.global_variables())\n",
    "load_was_success = True # yes, I'm being optimistic\n",
    "try:\n",
    "    save_dir = '/'.join(FLAGS.save_path.split('/')[:-1])\n",
    "    ckpt = tf.train.get_checkpoint_state(save_dir)\n",
    "    load_path = ckpt.model_checkpoint_path\n",
    "    saver.restore(sess, load_path)\n",
    "except:\n",
    "    print \"no saved model to load.\"\n",
    "    load_was_success = False\n",
    "else:\n",
    "    print \"loaded model: {}\".format(load_path)\n",
    "    saver = tf.train.Saver(tf.global_variables())\n",
    "    global_step = int(load_path.split('-')[-1]) + 1"
   ]
  },
  {
   "cell_type": "markdown",
   "metadata": {},
   "source": [
    "### Train loop"
   ]
  },
  {
   "cell_type": "code",
   "execution_count": 10,
   "metadata": {
    "collapsed": false
   },
   "outputs": [],
   "source": [
    "loss_history = []\n",
    "for i in xrange(global_step, FLAGS.iterations + 1):\n",
    "    llprint(\"\\rIteration {}/{}\".format(i, FLAGS.iterations))\n",
    "\n",
    "    rlen = np.random.randint(1, FLAGS.length + 1)\n",
    "    X, y = next_batch(FLAGS.batch_size, rlen, FLAGS.xlen)\n",
    "    tsteps = 2*rlen+3\n",
    "\n",
    "    fetch = [loss, grad_op]\n",
    "    feed = {dnc.X: X, dnc.y: y, dnc.tsteps: tsteps}\n",
    "\n",
    "    step_loss, _ = sess.run(fetch, feed_dict=feed)\n",
    "    loss_history.append(step_loss)\n",
    "    global_step = i\n",
    "\n",
    "    if i % 100 == 0:\n",
    "        llprint(\"\\n\\tloss: {:03.4f}\\n\".format(np.mean(loss_history)))\n",
    "        loss_history = []\n",
    "    if i % FLAGS.save_every == 0 and i is not 0:\n",
    "        llprint(\"\\n\\tSAVING MODEL\\n\")\n",
    "        saver.save(sess, FLAGS.save_path, global_step=global_step)"
   ]
  },
  {
   "cell_type": "code",
   "execution_count": 12,
   "metadata": {
    "collapsed": false
   },
   "outputs": [
    {
     "data": {
      "image/png": "[encoded data removed]",
      "text/plain": [
       "<matplotlib.figure.Figure at 0x11a05afd0>"
      ]
     },
     "metadata": {},
     "output_type": "display_data"
    }
   ],
   "source": [
    "X, y = next_batch(FLAGS.batch_size, FLAGS.length, FLAGS.xlen)\n",
    "tsteps = 2*FLAGS.length+3\n",
    "\n",
    "feed = {dnc.X: X, dnc.y: y, dnc.tsteps: tsteps}\n",
    "fetch = [outputs['y_hat'], outputs['w_w'], outputs['w_r'], outputs['f'], outputs['g_a']]\n",
    "[_y_hat, _w_w, _w_r, _f, _g_a] = sess.run(fetch, feed)\n",
    "_y_hat = np.clip(_y_hat, 1e-6, 1-1e-6)\n",
    "_y = y[0] ; _X = X[0]\n",
    "\n",
    "fig, ((ax1,ax2),(ax3,ax5),(ax4,ax6),) = plt.subplots(nrows=3, ncols=2)\n",
    "plt.rcParams['savefig.facecolor'] = \"0.8\"\n",
    "fs = 12 # font size\n",
    "fig.set_figwidth(10)\n",
    "fig.set_figheight(5)\n",
    "\n",
    "ax1.imshow(_X.T - _y.T, interpolation='none') ; ax1.set_title('input ($X$) and target ($y$)')\n",
    "ax2.imshow(_y_hat[0,-FLAGS.length:,:].T, interpolation='none') ; ax2.set_title('prediction ($\\hat y$)')\n",
    "\n",
    "ax3.imshow(_w_w[0,:,:].T, interpolation='none') ; ax3.set_title('write weighting ($w_w$)')\n",
    "ax4.imshow(_w_r[0,:,:,0].T, interpolation='none') ; ax4.set_title('read weighting ($w_r$)')\n",
    "\n",
    "ax5.imshow(_f[0,:,:].T, interpolation='none') ; ax5.set_title('free gate ($f$)') ; ax5.set_aspect(3)\n",
    "ax6.imshow(_g_a[0,:,:].T, interpolation='none') ; ax6.set_title('allocation gate ($g_a$)') ; ax6.set_aspect(3)\n",
    "\n",
    "plt.tight_layout()"
   ]
  },
  {
   "cell_type": "code",
   "execution_count": 26,
   "metadata": {
    "collapsed": true
   },
   "outputs": [],
   "source": [
    "FLAGS.length = 12"
   ]
  },
  {
   "cell_type": "code",
   "execution_count": 27,
   "metadata": {
    "collapsed": false
   },
   "outputs": [
    {
     "name": "stdout",
     "output_type": "stream",
     "text": [
      "starting free recall trials: \n",
      "\ttrial #0\n",
      "\ttrial #100\n",
      "\ttrial #200\n",
      "\ttrial #300\n",
      "\ttrial #400\n",
      "\ttrial #500\n",
      "\ttrial #600\n",
      "\ttrial #700\n",
      "\ttrial #800\n",
      "\ttrial #900\n",
      "\ttrial #1000\n",
      "\ttrial #1100\n",
      "\ttrial #1200\n",
      "\ttrial #1300\n",
      "\ttrial #1400\n",
      "\ttrial #1500\n",
      "\ttrial #1600\n",
      "\ttrial #1700\n",
      "\ttrial #1800\n",
      "\ttrial #1900\n",
      "\ttrial #2000\n",
      "\ttrial #2100\n",
      "\ttrial #2200\n",
      "\ttrial #2300\n",
      "\ttrial #2400\n",
      "\ttrial #2500\n",
      "\ttrial #2600\n",
      "\ttrial #2700\n",
      "\ttrial #2800\n",
      "\ttrial #2900\n",
      "\ttrial #3000\n",
      "\ttrial #3100\n",
      "\ttrial #3200\n",
      "\ttrial #3300\n",
      "\ttrial #3400\n",
      "\ttrial #3500\n",
      "\ttrial #3600\n",
      "\ttrial #3700\n",
      "\ttrial #3800\n",
      "\ttrial #3900\n",
      "\ttrial #4000\n",
      "\ttrial #4100\n",
      "\ttrial #4200\n",
      "\ttrial #4300\n",
      "\ttrial #4400\n",
      "\ttrial #4500\n",
      "\ttrial #4600\n",
      "\ttrial #4700\n",
      "\ttrial #4800\n",
      "\ttrial #4900\n"
     ]
    }
   ],
   "source": [
    "recall_orders = []\n",
    "trials = 5000 ; print \"starting free recall trials: \"\n",
    "for i in range(trials):\n",
    "    X, y = next_batch(FLAGS.batch_size, FLAGS.length, FLAGS.xlen)\n",
    "    tsteps = 2*FLAGS.length+3\n",
    "\n",
    "    feed = {dnc.X: X, dnc.tsteps: tsteps}\n",
    "    _y_hat = outputs['y_hat'].eval(feed)\n",
    "    _y_hat = np.clip(_y_hat, 1e-6, 1-1e-6)\n",
    "    _y = y[0] ; _X = X[0]\n",
    "    \n",
    "    real_y = np.tile(_y[-FLAGS.length:,:], [1,1,1])\n",
    "    pred_y = _y_hat[0:1,-FLAGS.length:,:]\n",
    "    order = guess_recall_order(real_y, pred_y, FLAGS.length)\n",
    "    \n",
    "    recall_orders.append(order)\n",
    "    if (i%100 == 0): print(\"\\ttrial #{}\".format(i))\n",
    "recall_orders = np.stack(recall_orders)"
   ]
  },
  {
   "cell_type": "code",
   "execution_count": 29,
   "metadata": {
    "collapsed": false
   },
   "outputs": [
    {
     "data": {
      "image/png": "[encoded data removed]",
      "text/plain": [
       "<matplotlib.figure.Figure at 0x11bef3d50>"
      ]
     },
     "metadata": {},
     "output_type": "display_data"
    },
    {
     "data": {
      "image/png": "[encoded data removed]",
      "text/plain": [
       "<matplotlib.figure.Figure at 0x11df76e50>"
      ]
     },
     "metadata": {},
     "output_type": "display_data"
    }
   ],
   "source": [
    "def plot_recall(probs, pos):\n",
    "    #     print \"Is normalized: \", np.abs(1-np.sum(position_probs)) < 1e-6\n",
    "    plt.figure(pos, figsize=[8,5])\n",
    "    plt.axis((0,4,0.0,1.0))\n",
    "    plt.title(\"DNC free recall (position={})\".format(pos))\n",
    "    plt.xlabel(\"Serial position\") ; plt.ylabel(\"Recall probability\")\n",
    "    plt.plot(range(len(probs)), probs) ; plt.show()\n",
    "\n",
    "for pos in range(1):\n",
    "    position_probs = [np.sum(i == recall_orders[:,pos])/float(trials) for i in range(FLAGS.length)]\n",
    "    plot_recall(position_probs, pos=pos)\n",
    "    \n",
    "p0_probs = np.asarray([np.sum(i == recall_orders[:,0])/float(trials) for i in range(FLAGS.length)])\n",
    "p1_probs = np.asarray([np.sum(i == recall_orders[:,1])/float(trials) for i in range(FLAGS.length)])\n",
    "plot_recall(.5*(p0_probs + p1_probs), pos=12)"
   ]
  },
  {
   "cell_type": "code",
   "execution_count": null,
   "metadata": {
    "collapsed": false
   },
   "outputs": [],
   "source": [
    "# # X, y = next_batch(FLAGS.batch_size, FLAGS.length, FLAGS.xlen)\n",
    "# # y = np.stack(y)\n",
    "# # y = y[:,FLAGS.length + 3:,:]\n",
    "# # # p = np.random.permutation(FLAGS.length)\n",
    "# # y_shuffle = y #y[:,p,:] ; print 'permute by: ', p\n",
    "# # # y_shuffle[:,-1,-1] = 4\n",
    "\n",
    "# # plt.figure(0, figsize=[1,1])\n",
    "# # plt.imshow(y[0,:,:].T, interpolation='none')\n",
    "# # plt.figure(1, figsize=[1,1])\n",
    "# # plt.imshow(y_shuffle[0,:,:].T, interpolation='none')\n",
    "# # plt.show()\n",
    "\n",
    "# def guess_recall_order(real_y, pred_y, FLAGS):\n",
    "#     # sorry this is uuuuugly but we have to because it's batched\n",
    "#     real_y = np.tile(real_y, [1,1,1,1]) ; real_y = np.transpose(real_y, (1,0,2,3))\n",
    "#     pred_y = np.tile(pred_y,[1,1,1,1]) ; pred_y = np.transpose(pred_y, (1,0,2,3))\n",
    "    \n",
    "#     pred_y = np.tile(pred_y,[1,FLAGS.length,1,1])\n",
    "#     pred_y = np.transpose(pred_y, (0,2,1,3))\n",
    "    \n",
    "# #     real_y = real_y[0,:,:,:] ; pred_y = pred_y[0,:,:,:]\n",
    "#     y_minus = .5*(real_y - pred_y)**2\n",
    "#     y_minus = np.sum(y_minus, axis=-1)\n",
    "#     y_mins = np.amin(y_minus, axis=1)\n",
    "    \n",
    "#     k, l = np.where(y_minus == y_mins)\n",
    "#     i = 0\n",
    "#     while i < len(k): \n",
    "#         if k[-i] == k[-i-1]:\n",
    "#             k = np.delete(k,-i) ; l = np.delete(l,-i)\n",
    "#         i+=1\n",
    "#     return l\n",
    "\n",
    "# X, real_y = next_batch(FLAGS.batch_size, FLAGS.length, FLAGS.xlen)\n",
    "# real_y = np.stack(real_y)[:,-FLAGS.length:,:]\n",
    "\n",
    "# p = np.random.permutation(y_i.shape[0]) ; print 'permute by: ', p\n",
    "# pred_y = [y_i[p,:] for y_i in real_y]\n",
    "# pred_y = np.stack(pred_y)\n",
    "# # pred_y[:,-2:,-1] = 4\n",
    "\n",
    "# plt.figure(0, figsize=[1,1])\n",
    "# plt.imshow(real_y[0,:,:].T, interpolation='none')\n",
    "# plt.figure(1, figsize=[1,1])\n",
    "# plt.imshow(pred_y[0,:,:].T, interpolation='none')\n",
    "# plt.show()\n",
    "\n",
    "# np_loss(real_y, pred_y, FLAGS)"
   ]
  },
  {
   "cell_type": "code",
   "execution_count": null,
   "metadata": {
    "collapsed": true
   },
   "outputs": [],
   "source": [
    "def scatter(idx, vals, target):\n",
    "    \"\"\"target[idx] += vals, but allowing for repeats in idx\"\"\"\n",
    "    np.add.at(target, idx.ravel(), vals.ravel())"
   ]
  },
  {
   "cell_type": "code",
   "execution_count": null,
   "metadata": {
    "collapsed": true
   },
   "outputs": [],
   "source": []
  }
 ],
 "metadata": {
  "kernelspec": {
   "display_name": "Python 2",
   "language": "python",
   "name": "python2"
  },
  "language_info": {
   "codemirror_mode": {
    "name": "ipython",
    "version": 2
   },
   "file_extension": ".py",
   "mimetype": "text/x-python",
   "name": "python",
   "nbconvert_exporter": "python",
   "pygments_lexer": "ipython2",
   "version": "2.7.10"
  }
 },
 "nbformat": 4,
 "nbformat_minor": 1
}
