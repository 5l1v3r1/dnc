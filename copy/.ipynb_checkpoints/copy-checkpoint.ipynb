{
 "cells": [
  {
   "cell_type": "markdown",
   "metadata": {},
   "source": [
    "# Differentiable Neural Computer\n",
    "**Sam Greydanus $\\cdot$ February 2017 $\\cdot$ MIT License.**\n",
    "\n",
    "Represents the state of the art in differentiable memory. Inspired by this [Nature paper](http://www.nature.com/nature/journal/v538/n7626/full/nature20101.html). Some ideas taken from [this Gihub repo](https://github.com/Mostafa-Samir/DNC-tensorflow)\n",
    "\n",
    "<a href=\"http://www.nature.com/nature/journal/v538/n7626/full/nature20101.html\"><img src=\"/static/dnc_schema.png\" alt=\"DNC schema\" style=\"width: 400px;\"/></a>"
   ]
  },
  {
   "cell_type": "code",
   "execution_count": 1,
   "metadata": {
    "collapsed": false
   },
   "outputs": [],
   "source": [
    "import tensorflow as tf\n",
    "import numpy as np\n",
    "import sys\n",
    "\n",
    "from dnc.dnc import DNC\n",
    "from nn_controller import NNController"
   ]
  },
  {
   "cell_type": "code",
   "execution_count": 2,
   "metadata": {
    "collapsed": true
   },
   "outputs": [],
   "source": [
    "length = 10\n",
    "xydim = 6\n",
    "tf.app.flags.DEFINE_integer(\"xlen\", xydim, \"Input dimension\")\n",
    "tf.app.flags.DEFINE_integer(\"ylen\", xydim, \"output dimension\")\n",
    "tf.app.flags.DEFINE_integer(\"max_sequence_length\", 2*length+1, \"Maximum sequence length\")\n",
    "tf.app.flags.DEFINE_integer(\"length\", length, \"Maximum sequence length\")\n",
    "tf.app.flags.DEFINE_integer(\"batch_size\", 2, \"Size of batch in minibatch gradient descent\")\n",
    "\n",
    "tf.app.flags.DEFINE_integer(\"R\", 1, \"Number of DNC read heads\")\n",
    "tf.app.flags.DEFINE_integer(\"W\", 10, \"Word length for DNC memory\")\n",
    "tf.app.flags.DEFINE_integer(\"N\", 15, \"Number of words the DNC memory can store\")\n",
    "\n",
    "tf.app.flags.DEFINE_integer(\"print_every\", 100, \"Print training info after this number of train steps\")\n",
    "tf.app.flags.DEFINE_integer(\"iterations\", 100000, \"Number of training iterations\")\n",
    "tf.app.flags.DEFINE_float(\"lr\", 1e-4, \"Learning rate (alpha) for the model\")\n",
    "tf.app.flags.DEFINE_float(\"momentum\", .9, \"Momentum for RMSProp\")\n",
    "tf.app.flags.DEFINE_integer(\"save_every\", 0, \"Save model after this number of train steps\")\n",
    "tf.app.flags.DEFINE_string(\"save_dir\", \"models\", \"Directory in which to save checkpoints\")\n",
    "tf.app.flags.DEFINE_string(\"log_dir\", \"logs\", \"Directory in which to save logs\")\n",
    "FLAGS = tf.app.flags.FLAGS"
   ]
  },
  {
   "cell_type": "code",
   "execution_count": null,
   "metadata": {
    "collapsed": true
   },
   "outputs": [],
   "source": [
    "def generate_data(batch_size, length, dim):\n",
    "    X, y = np.zeros((batch_size, 2 * length + 1, dim)), np.zeros((batch_size, 2 * length + 1, dim))\n",
    "    sequence = np.random.binomial(1, 0.5, (batch_size, length, dim - 1))\n",
    "\n",
    "    X[:, :length, :dim - 1] = sequence\n",
    "    X[:, length, -1] = 1  # end symbol\n",
    "    y[:, length + 1:, :dim - 1] = sequence\n",
    "    \n",
    "    return X, y\n",
    "\n",
    "def binary_cross_entropy(y_hat, y):\n",
    "    return tf.reduce_mean(-y*tf.log(y_hat) - (1-y)*tf.log(1-y_hat))\n",
    "\n",
    "def llprint(message):\n",
    "    sys.stdout.write(message)\n",
    "    sys.stdout.flush()"
   ]
  },
  {
   "cell_type": "code",
   "execution_count": null,
   "metadata": {
    "collapsed": false
   },
   "outputs": [
    {
     "name": "stdout",
     "output_type": "stream",
     "text": [
      "building graph...\n",
      "computing gradients...\n",
      "init variables... \n",
      "starting to train...\n",
      "\n",
      "Iteration 0/100000\n",
      "\tloss: 0.6899\n",
      "Iteration 100/100000\n",
      "\tloss: 0.6738\n",
      "Iteration 200/100000\n",
      "\tloss: 0.4000\n",
      "Iteration 300/100000\n",
      "\tloss: 0.2642\n",
      "Iteration 400/100000\n",
      "\tloss: 0.2544\n",
      "Iteration 500/100000\n",
      "\tloss: 0.2533\n",
      "Iteration 600/100000\n",
      "\tloss: 0.2539\n",
      "Iteration 700/100000\n",
      "\tloss: 0.2570\n",
      "Iteration 800/100000\n",
      "\tloss: 0.2507\n",
      "Iteration 900/100000\n",
      "\tloss: 0.2462\n",
      "Iteration 1000/100000\n",
      "\tloss: 0.2464\n",
      "Iteration 1100/100000\n",
      "\tloss: 0.2491\n",
      "Iteration 1200/100000\n",
      "\tloss: 0.2412\n",
      "Iteration 1300/100000\n",
      "\tloss: 0.2340\n",
      "Iteration 1400/100000\n",
      "\tloss: 0.2343\n",
      "Iteration 1500/100000\n",
      "\tloss: 0.2303\n",
      "Iteration 1600/100000\n",
      "\tloss: 0.2196\n",
      "Iteration 1700/100000\n",
      "\tloss: 0.2305\n",
      "Iteration 1800/100000\n",
      "\tloss: 0.2237\n",
      "Iteration 1854/100000"
     ]
    }
   ],
   "source": [
    "graph = tf.Graph()\n",
    "with graph.as_default():\n",
    "    with tf.Session(graph=graph) as session:\n",
    "        llprint(\"building graph...\\n\")\n",
    "        optimizer = tf.train.RMSPropOptimizer(FLAGS.lr, momentum=FLAGS.momentum)\n",
    "        dnc = DNC(NNController, FLAGS)\n",
    "\n",
    "        # define loss\n",
    "        y_hat, _ = dnc.get_outputs()\n",
    "        y_hat = tf.clip_by_value(tf.sigmoid(y_hat), 1e-6, 1. - 1e-6)\n",
    "        loss = binary_cross_entropy(y_hat, dnc.y)\n",
    "        \n",
    "        llprint(\"computing gradients...\\n\")\n",
    "        gradients = optimizer.compute_gradients(loss)\n",
    "        grad_op = optimizer.apply_gradients(gradients)\n",
    "    \n",
    "        llprint(\"init variables... \\n\")\n",
    "        session.run(tf.global_variables_initializer())\n",
    "        llprint(\"starting to train...\\n\\n\")\n",
    "\n",
    "        loss_history = []\n",
    "\n",
    "        for i in xrange(FLAGS.iterations + 1):\n",
    "            llprint(\"\\rIteration {}/{}\".format(i, FLAGS.iterations))\n",
    "\n",
    "            random_length = np.random.randint(1, FLAGS.length + 1)\n",
    "            X, y = generate_data(FLAGS.batch_size, random_length, FLAGS.xlen)\n",
    "\n",
    "            fetch = [loss, grad_op]\n",
    "            feed = {dnc.X: X, dnc.y: y, dnc.tsteps: 2 * random_length + 1}\n",
    "            \n",
    "            step_loss, _ = session.run(fetch, feed_dict=feed)\n",
    "\n",
    "            loss_history.append(step_loss)\n",
    "\n",
    "            if i % 100 == 0:\n",
    "                llprint(\"\\n\\tloss: {:03.4f}\\n\".format(np.mean(loss_history)))\n",
    "                loss_history = []"
   ]
  },
  {
   "cell_type": "code",
   "execution_count": null,
   "metadata": {
    "collapsed": true
   },
   "outputs": [],
   "source": []
  }
 ],
 "metadata": {
  "kernelspec": {
   "display_name": "Python 2",
   "language": "python",
   "name": "python2"
  },
  "language_info": {
   "codemirror_mode": {
    "name": "ipython",
    "version": 2
   },
   "file_extension": ".py",
   "mimetype": "text/x-python",
   "name": "python",
   "nbconvert_exporter": "python",
   "pygments_lexer": "ipython2",
   "version": "2.7.10"
  }
 },
 "nbformat": 4,
 "nbformat_minor": 1
}
